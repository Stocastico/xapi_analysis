{
 "cells": [
  {
   "cell_type": "markdown",
   "id": "f00dee7c",
   "metadata": {},
   "source": [
    "# Read xAPI statements stored in a csv file\n",
    "\n",
    "> The methods in this notebook implement the functionalities for reading a collection of xAPI statements stored in a ```csv``` file\n",
    "The standard way to export statements from a Learning Locker instance is in the form of ```csv``` files, which \n",
    "Here we show how to import the data and parse file, as well as helper functions to process the information and create useful plots to perform exploratory data analysis"
   ]
  },
  {
   "cell_type": "code",
   "execution_count": null,
   "id": "b8156268",
   "metadata": {},
   "outputs": [],
   "source": [
    "#| default_exp input_csv"
   ]
  },
  {
   "cell_type": "code",
   "execution_count": null,
   "id": "eb4ef7e0",
   "metadata": {},
   "outputs": [],
   "source": [
    "#| hide\n",
    "from nbdev.showdoc import *"
   ]
  },
  {
   "cell_type": "markdown",
   "id": "8d241f9f",
   "metadata": {},
   "source": [
    "The libraries used to import the data:"
   ]
  },
  {
   "cell_type": "code",
   "execution_count": null,
   "id": "b8f0a989",
   "metadata": {},
   "outputs": [],
   "source": [
    "import pandas as pd\n",
    "import numpy as np\n",
    "from typing import Set, List\n",
    "from datetime import datetime\n",
    "from fastcore.test import *"
   ]
  },
  {
   "cell_type": "markdown",
   "id": "7c42b269",
   "metadata": {},
   "source": [
    "As an example, in this package we provide a ```csv``` file containing around 1000 xAPI statements."
   ]
  },
  {
   "cell_type": "code",
   "execution_count": null,
   "id": "3249f212",
   "metadata": {},
   "outputs": [],
   "source": [
    "csv_file = '../example_statements.csv'"
   ]
  },
  {
   "cell_type": "markdown",
   "id": "335027a2",
   "metadata": {},
   "source": [
    "#### Load statements from file\n",
    "Let's start by reading the csv file"
   ]
  },
  {
   "cell_type": "code",
   "execution_count": null,
   "id": "923b6b5c",
   "metadata": {},
   "outputs": [
    {
     "data": {
      "text/html": [
       "<div>\n",
       "<style scoped>\n",
       "    .dataframe tbody tr th:only-of-type {\n",
       "        vertical-align: middle;\n",
       "    }\n",
       "\n",
       "    .dataframe tbody tr th {\n",
       "        vertical-align: top;\n",
       "    }\n",
       "\n",
       "    .dataframe thead th {\n",
       "        text-align: right;\n",
       "    }\n",
       "</style>\n",
       "<table border=\"1\" class=\"dataframe\">\n",
       "  <thead>\n",
       "    <tr style=\"text-align: right;\">\n",
       "      <th></th>\n",
       "      <th>timestamp</th>\n",
       "      <th>stored</th>\n",
       "      <th>actor</th>\n",
       "      <th>verb</th>\n",
       "      <th>object</th>\n",
       "      <th>result</th>\n",
       "    </tr>\n",
       "  </thead>\n",
       "  <tbody>\n",
       "    <tr>\n",
       "      <th>0</th>\n",
       "      <td>2023-03-10 11:45:09.638000+00:00</td>\n",
       "      <td>2023-03-10T11:45:09.638Z</td>\n",
       "      <td>Teacher</td>\n",
       "      <td>Logged In</td>\n",
       "      <td>Salesianos</td>\n",
       "      <td>NaN</td>\n",
       "    </tr>\n",
       "    <tr>\n",
       "      <th>1</th>\n",
       "      <td>2023-03-10 11:52:00.020000+00:00</td>\n",
       "      <td>2023-03-10T11:52:00.020Z</td>\n",
       "      <td>PC006</td>\n",
       "      <td>Logged In</td>\n",
       "      <td>Salesianos</td>\n",
       "      <td>NaN</td>\n",
       "    </tr>\n",
       "    <tr>\n",
       "      <th>2</th>\n",
       "      <td>2023-03-10 11:52:04.063000+00:00</td>\n",
       "      <td>2023-03-10T11:52:04.063Z</td>\n",
       "      <td>PC008</td>\n",
       "      <td>Logged In</td>\n",
       "      <td>Salesianos</td>\n",
       "      <td>NaN</td>\n",
       "    </tr>\n",
       "    <tr>\n",
       "      <th>3</th>\n",
       "      <td>2023-03-10 11:52:05.177000+00:00</td>\n",
       "      <td>2023-03-10T11:52:05.177Z</td>\n",
       "      <td>Tablet1</td>\n",
       "      <td>Logged In</td>\n",
       "      <td>Salesianos</td>\n",
       "      <td>{\"score\":{\"raw\":0}}</td>\n",
       "    </tr>\n",
       "    <tr>\n",
       "      <th>4</th>\n",
       "      <td>2023-03-10 11:52:05.679000+00:00</td>\n",
       "      <td>2023-03-10T11:52:05.679Z</td>\n",
       "      <td>PC004</td>\n",
       "      <td>Logged In</td>\n",
       "      <td>Salesianos</td>\n",
       "      <td>NaN</td>\n",
       "    </tr>\n",
       "  </tbody>\n",
       "</table>\n",
       "</div>"
      ],
      "text/plain": [
       "                          timestamp                    stored    actor   \n",
       "0  2023-03-10 11:45:09.638000+00:00  2023-03-10T11:45:09.638Z  Teacher  \\\n",
       "1  2023-03-10 11:52:00.020000+00:00  2023-03-10T11:52:00.020Z    PC006   \n",
       "2  2023-03-10 11:52:04.063000+00:00  2023-03-10T11:52:04.063Z    PC008   \n",
       "3  2023-03-10 11:52:05.177000+00:00  2023-03-10T11:52:05.177Z  Tablet1   \n",
       "4  2023-03-10 11:52:05.679000+00:00  2023-03-10T11:52:05.679Z    PC004   \n",
       "\n",
       "        verb      object               result  \n",
       "0  Logged In  Salesianos                  NaN  \n",
       "1  Logged In  Salesianos                  NaN  \n",
       "2  Logged In  Salesianos                  NaN  \n",
       "3  Logged In  Salesianos  {\"score\":{\"raw\":0}}  \n",
       "4  Logged In  Salesianos                  NaN  "
      ]
     },
     "execution_count": null,
     "metadata": {},
     "output_type": "execute_result"
    }
   ],
   "source": [
    "statements = pd.read_csv(csv_file, index_col=0, delimiter=',').reset_index(drop=True)\n",
    "statements.head()"
   ]
  },
  {
   "cell_type": "markdown",
   "id": "a427c303",
   "metadata": {},
   "source": [
    "The three most important columns are **actor**, **verb** and **object**, which create a sentence-like structure. We can see the actions that the app registers from the verb column."
   ]
  },
  {
   "cell_type": "code",
   "execution_count": null,
   "id": "2d5b6448",
   "metadata": {},
   "outputs": [],
   "source": [
    "#| export\n",
    "def get_all_verbs(df: pd.DataFrame # The dataset containing the xAPI statements (one statement per row)\n",
    "                 ) -> Set: # Set containing all the verbs occurring in the dataset\n",
    "    \"\"\"\n",
    "    Returns a set with all verbs in the dataset\n",
    "    \"\"\"\n",
    "    return set(df[\"verb\"].unique())"
   ]
  },
  {
   "cell_type": "code",
   "execution_count": null,
   "id": "c116a471",
   "metadata": {},
   "outputs": [],
   "source": [
    "test_verbs = {'Logged In', 'Placed', 'Swiped', 'Asked', 'Started', 'Logged Out',\n",
    "       'Accepted', 'Set Turn', 'Suggested', 'Ran Out', 'Sent', 'Checked',\n",
    "       'Assigned', 'Canceled', 'Ended'}\n",
    "test_eq(get_all_verbs(statements), test_verbs)"
   ]
  },
  {
   "cell_type": "markdown",
   "id": "b943506d",
   "metadata": {},
   "source": [
    "We provide similar functions for **actors** and **objects**"
   ]
  },
  {
   "cell_type": "code",
   "execution_count": null,
   "id": "b3fcca32",
   "metadata": {},
   "outputs": [],
   "source": [
    "#| export\n",
    "def get_all_actors(df: pd.DataFrame # The dataset containing the xAPI statements (one statement per row)\n",
    "                 ) -> Set: # Set containing all the actors occurring in the dataset\n",
    "    \"\"\"\n",
    "    Returns a set with all actors in the dataset\n",
    "    \"\"\"\n",
    "    return set(df[\"actor\"].unique())"
   ]
  },
  {
   "cell_type": "code",
   "execution_count": null,
   "id": "7b9551f1",
   "metadata": {},
   "outputs": [],
   "source": [
    "test_actors = {'Teacher', 'PC006', 'PC008', 'Tablet1', 'PC004', 'PC009', 'PC007', 'PC003', 'Iphone 1',\n",
    "       'PC005', 'iPad2', 'Tablet 2', 'Android1', 'Android2', 'iPad1', 'PC002', 'Android4', 'Android3',\n",
    "       'iphone 1', 'iPhone 1', 'Ipad1', 'Tablet1 ', 'Ipad2'}\n",
    "test_eq(get_all_actors(statements), test_actors)"
   ]
  },
  {
   "cell_type": "code",
   "execution_count": null,
   "id": "10840c95",
   "metadata": {},
   "outputs": [],
   "source": [
    "#| export\n",
    "def get_all_objects(df: pd.DataFrame # The dataset containing the xAPI statements (one statement per row)\n",
    "                 ) -> Set: # Set containing all the objects occurring in the dataset\n",
    "    \"\"\"\n",
    "    Returns a set with all objects in the dataset\n",
    "    \"\"\"\n",
    "    return set(df[\"object\"].unique())"
   ]
  },
  {
   "cell_type": "markdown",
   "id": "0644308c",
   "metadata": {},
   "source": [
    "The list of unique objects is quite big, so we will not print it in this example.\n",
    "\n",
    "As the **actor** values are usually associated to a user input (for example the username provided when starting the app), it makes sense to clean the values as to avoid that *User1*, *user1* and *user 1* are trated as the same user. The following functions allow to do just that, on the desired columns."
   ]
  },
  {
   "cell_type": "code",
   "execution_count": null,
   "id": "b330325c",
   "metadata": {},
   "outputs": [],
   "source": [
    "#| export\n",
    "def remove_whitespaces(df: pd.DataFrame, # The dataset containing the xAPI statements (one statement per row)\n",
    "                       cols: List # the columns on which whitespaces should be removed\n",
    "                      ) -> pd.DataFrame: # The dataframe after applying the function\n",
    "    \"\"\"\n",
    "    Removes whitespaces from the specified columns in the dataframe.\n",
    "    \"\"\"\n",
    "    df[cols] = df[cols].apply(lambda s : s.str.replace(\" \", \"\"))\n",
    "    return df"
   ]
  },
  {
   "cell_type": "code",
   "execution_count": null,
   "id": "09d38fe6",
   "metadata": {},
   "outputs": [],
   "source": [
    "#| export\n",
    "def to_lowercase(df: pd.DataFrame, # The dataset containing the xAPI statements (one statement per row)\n",
    "                       cols: List # the columns whose content should be made lowercase\n",
    "                      ) -> pd.DataFrame: # The dataframe after applying the function\n",
    "    \"\"\"\n",
    "    Converts to lowercase the elements in the specified columns.\n",
    "    The function only applies to columnns whose type is *str*\n",
    "    \"\"\"\n",
    "    df[cols] = df[cols].applymap(lambda s: s.lower() if type(s) == str else s)\n",
    "    return df"
   ]
  },
  {
   "cell_type": "code",
   "execution_count": null,
   "id": "f44f760e",
   "metadata": {},
   "outputs": [],
   "source": [
    "test_actors = {'teacher', 'pc006', 'pc008', 'tablet1', 'pc004', 'pc009', 'pc007', 'pc003', 'iphone1',\n",
    "               'pc005', 'ipad2', 'tablet2', 'android1', 'android2', 'ipad1', 'pc002', 'android4', 'android3'}\n",
    "df = remove_whitespaces(statements, [\"actor\"])\n",
    "df2 = to_lowercase(df, [\"actor\"])\n",
    "test_eq(get_all_actors(df2), test_actors)"
   ]
  },
  {
   "cell_type": "markdown",
   "id": "43d927f6",
   "metadata": {},
   "source": [
    "We may also be interested in removing specific rows from the dataset, for examples the ones associated to an **actor** that opted out of the intervention, or for **verbs** we do not care about. This could be the case for example for verbs like *Log In* or *Log out*, which provides information about when a user starts and stops the app, but may be not relevant in case our analysis is only about the interactions from within the app."
   ]
  },
  {
   "cell_type": "code",
   "execution_count": null,
   "id": "75984adf",
   "metadata": {},
   "outputs": [],
   "source": [
    "#| export\n",
    "def remove_actors(df: pd.DataFrame, # The dataset containing the xAPI statements (one statement per row)\n",
    "                       cols: List # the list of actors to remove\n",
    "                      ) -> pd.DataFrame: # The dataframe with the specified actors removed\n",
    "    \"\"\"\n",
    "    Removes from the dataframe all the rows whose actor is in the specified list\n",
    "    \"\"\"\n",
    "    return df[~df['actor'].isin(cols)]"
   ]
  },
  {
   "cell_type": "code",
   "execution_count": null,
   "id": "81df73af",
   "metadata": {},
   "outputs": [],
   "source": [
    "statements = pd.read_csv(csv_file, index_col=0, delimiter=',').reset_index(drop=True)\n",
    "test_actors = {'Teacher', 'PC006', 'PC008', 'Tablet1', 'PC004', 'PC009', 'PC007', 'PC003', 'Iphone 1',\n",
    "       'PC005', 'iPad2', 'Tablet 2', 'Android1', 'Android2'}\n",
    "test_df = remove_actors(statements, ['iPad1', 'PC002', 'Android4', 'Android3',\n",
    "       'iphone 1', 'iPhone 1', 'Ipad1', 'Tablet1 ', 'Ipad2'])\n",
    "test_eq(get_all_actors(test_df), test_actors)"
   ]
  },
  {
   "cell_type": "code",
   "execution_count": null,
   "id": "a736db6e",
   "metadata": {},
   "outputs": [],
   "source": [
    "#| export\n",
    "def remove_verbs(df: pd.DataFrame, # The dataset containing the xAPI statements (one statement per row)\n",
    "                       cols: List # the list of verbs to remove\n",
    "                      ) -> pd.DataFrame: # The dataframe with the specified verbs removed\n",
    "    \"\"\"\n",
    "    Removes from the dataframe all the rows whose actor is in the specified list\n",
    "    \"\"\"\n",
    "    return df[~df['verb'].isin(cols)]"
   ]
  },
  {
   "cell_type": "code",
   "execution_count": null,
   "id": "f4178c7d",
   "metadata": {},
   "outputs": [],
   "source": [
    "test_verbs = {'Placed', 'Swiped', 'Asked', 'Started', 'Accepted', 'Set Turn', 'Suggested', 'Ran Out',\n",
    "              'Sent', 'Checked', 'Assigned', 'Canceled', 'Ended'}\n",
    "test_df = remove_verbs(statements, [\"Logged In\", \"Logged Out\"])\n",
    "test_eq(get_all_verbs(test_df), test_verbs)"
   ]
  },
  {
   "cell_type": "markdown",
   "id": "684b0307",
   "metadata": {},
   "source": [
    "#### Statement analysys\n",
    "Here we present some functions that are typically applied when analysing xAPI statements data. For this, we will use a clean version of the statements dataset, where some of the functions described above has been applied"
   ]
  },
  {
   "cell_type": "code",
   "execution_count": null,
   "id": "b568d4c5",
   "metadata": {},
   "outputs": [
    {
     "data": {
      "text/html": [
       "<div>\n",
       "<style scoped>\n",
       "    .dataframe tbody tr th:only-of-type {\n",
       "        vertical-align: middle;\n",
       "    }\n",
       "\n",
       "    .dataframe tbody tr th {\n",
       "        vertical-align: top;\n",
       "    }\n",
       "\n",
       "    .dataframe thead th {\n",
       "        text-align: right;\n",
       "    }\n",
       "</style>\n",
       "<table border=\"1\" class=\"dataframe\">\n",
       "  <thead>\n",
       "    <tr style=\"text-align: right;\">\n",
       "      <th></th>\n",
       "      <th>timestamp</th>\n",
       "      <th>stored</th>\n",
       "      <th>actor</th>\n",
       "      <th>verb</th>\n",
       "      <th>object</th>\n",
       "      <th>result</th>\n",
       "    </tr>\n",
       "  </thead>\n",
       "  <tbody>\n",
       "    <tr>\n",
       "      <th>14</th>\n",
       "      <td>2023-03-10 11:52:18.277000+00:00</td>\n",
       "      <td>2023-03-10T11:52:18.277Z</td>\n",
       "      <td>iphone1</td>\n",
       "      <td>Placed</td>\n",
       "      <td>Earth</td>\n",
       "      <td>{\"score\":{\"raw\":0}}</td>\n",
       "    </tr>\n",
       "    <tr>\n",
       "      <th>15</th>\n",
       "      <td>2023-03-10 11:52:18.847000+00:00</td>\n",
       "      <td>2023-03-10T11:52:18.847Z</td>\n",
       "      <td>iphone1</td>\n",
       "      <td>Swiped</td>\n",
       "      <td>Left</td>\n",
       "      <td>{\"score\":{\"raw\":0}}</td>\n",
       "    </tr>\n",
       "    <tr>\n",
       "      <th>18</th>\n",
       "      <td>2023-03-10 11:52:29.001000+00:00</td>\n",
       "      <td>2023-03-10T11:52:29.001Z</td>\n",
       "      <td>iphone1</td>\n",
       "      <td>Placed</td>\n",
       "      <td>Earth</td>\n",
       "      <td>{\"score\":{\"raw\":0}}</td>\n",
       "    </tr>\n",
       "    <tr>\n",
       "      <th>19</th>\n",
       "      <td>2023-03-10 11:52:29.094000+00:00</td>\n",
       "      <td>2023-03-10T11:52:29.094Z</td>\n",
       "      <td>android2</td>\n",
       "      <td>Placed</td>\n",
       "      <td>Earth</td>\n",
       "      <td>{\"score\":{\"raw\":0}}</td>\n",
       "    </tr>\n",
       "    <tr>\n",
       "      <th>20</th>\n",
       "      <td>2023-03-10 11:52:29.194000+00:00</td>\n",
       "      <td>2023-03-10T11:52:29.194Z</td>\n",
       "      <td>iphone1</td>\n",
       "      <td>Swiped</td>\n",
       "      <td>Right</td>\n",
       "      <td>{\"score\":{\"raw\":0}}</td>\n",
       "    </tr>\n",
       "  </tbody>\n",
       "</table>\n",
       "</div>"
      ],
      "text/plain": [
       "                           timestamp                    stored     actor   \n",
       "14  2023-03-10 11:52:18.277000+00:00  2023-03-10T11:52:18.277Z   iphone1  \\\n",
       "15  2023-03-10 11:52:18.847000+00:00  2023-03-10T11:52:18.847Z   iphone1   \n",
       "18  2023-03-10 11:52:29.001000+00:00  2023-03-10T11:52:29.001Z   iphone1   \n",
       "19  2023-03-10 11:52:29.094000+00:00  2023-03-10T11:52:29.094Z  android2   \n",
       "20  2023-03-10 11:52:29.194000+00:00  2023-03-10T11:52:29.194Z   iphone1   \n",
       "\n",
       "      verb object               result  \n",
       "14  Placed  Earth  {\"score\":{\"raw\":0}}  \n",
       "15  Swiped   Left  {\"score\":{\"raw\":0}}  \n",
       "18  Placed  Earth  {\"score\":{\"raw\":0}}  \n",
       "19  Placed  Earth  {\"score\":{\"raw\":0}}  \n",
       "20  Swiped  Right  {\"score\":{\"raw\":0}}  "
      ]
     },
     "execution_count": null,
     "metadata": {},
     "output_type": "execute_result"
    }
   ],
   "source": [
    "statements = remove_whitespaces(statements, [\"actor\"])\n",
    "statements = to_lowercase(df, [\"actor\"])\n",
    "statements = remove_verbs(statements, [\"Logged In\", \"Logged Out\"])\n",
    "statements = remove_actors(statements, [\"android3\"])\n",
    "statements.head(5)"
   ]
  },
  {
   "cell_type": "code",
   "execution_count": null,
   "id": "f2f747d3",
   "metadata": {},
   "outputs": [],
   "source": []
  },
  {
   "cell_type": "code",
   "execution_count": null,
   "id": "1ab7befa",
   "metadata": {},
   "outputs": [],
   "source": []
  },
  {
   "cell_type": "code",
   "execution_count": null,
   "id": "b0b2ff5e",
   "metadata": {},
   "outputs": [],
   "source": []
  },
  {
   "cell_type": "code",
   "execution_count": null,
   "id": "98727c9f",
   "metadata": {},
   "outputs": [],
   "source": [
    "#| hide\n",
    "import nbdev; nbdev.nbdev_export()"
   ]
  },
  {
   "cell_type": "code",
   "execution_count": null,
   "id": "f19f438b",
   "metadata": {},
   "outputs": [],
   "source": []
  }
 ],
 "metadata": {
  "kernelspec": {
   "display_name": "python3",
   "language": "python",
   "name": "python3"
  }
 },
 "nbformat": 4,
 "nbformat_minor": 5
}
