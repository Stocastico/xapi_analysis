{
 "cells": [
  {
   "cell_type": "markdown",
   "id": "1f360971",
   "metadata": {},
   "source": [
    "# Read xAPI statements stored in a csv file\n",
    "\n",
    "> The methods in this notebook implement the functionalities for reading a collection of xAPI statements stored in a ```csv``` file\n",
    "The standard way to export statements from a Learning Locker instance is in the form of ```csv``` files, which \n",
    "Here we show how to import the data and parse file, as well as helper functions to process the information and create useful plots to perform exploratory data analysis"
   ]
  },
  {
   "cell_type": "code",
   "execution_count": null,
   "id": "b98e8559",
   "metadata": {},
   "outputs": [],
   "source": [
    "#| default_exp input_csv"
   ]
  },
  {
   "cell_type": "code",
   "execution_count": null,
   "id": "07c00211",
   "metadata": {},
   "outputs": [],
   "source": [
    "#| hide\n",
    "from nbdev.showdoc import *"
   ]
  },
  {
   "cell_type": "markdown",
   "id": "b584ceb1",
   "metadata": {},
   "source": [
    "The libraries used to import the data:"
   ]
  },
  {
   "cell_type": "code",
   "execution_count": null,
   "id": "6a76f44f",
   "metadata": {},
   "outputs": [],
   "source": [
    "import pandas as pd\n",
    "from typing import Union, List\n",
    "from datetime import datetime, timedelta\n",
    "from pathlib import Path\n",
    "from fastcore.test import *"
   ]
  },
  {
   "cell_type": "markdown",
   "id": "0731a300",
   "metadata": {},
   "source": [
    "As an example, in this package we provide a ```csv``` file containing around 1000 xAPI statements."
   ]
  },
  {
   "cell_type": "code",
   "execution_count": null,
   "id": "74752b00",
   "metadata": {},
   "outputs": [],
   "source": [
    "csv_file = 'example_statements.csv'"
   ]
  },
  {
   "cell_type": "code",
   "execution_count": null,
   "id": "67437ac9",
   "metadata": {},
   "outputs": [],
   "source": []
  },
  {
   "cell_type": "code",
   "execution_count": null,
   "id": "12ca8330",
   "metadata": {},
   "outputs": [],
   "source": [
    "#| hide\n",
    "import nbdev; nbdev.nbdev_export()"
   ]
  }
 ],
 "metadata": {
  "kernelspec": {
   "display_name": "python3",
   "language": "python",
   "name": "python3"
  }
 },
 "nbformat": 4,
 "nbformat_minor": 5
}
