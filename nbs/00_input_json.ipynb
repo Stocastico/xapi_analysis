{
 "cells": [
  {
   "cell_type": "markdown",
   "metadata": {},
   "source": [
    "# Read an input JSON statement\n",
    "\n",
    "> The methods in this notebook implement the functionalities for reading an xAPI statement stored in JSON format.\n",
    "Statements are usually provided in the form of ```csv``` files, but in case you want to check all the metadata of a statement, you can directly work with the ```json``` version of a statement.\n",
    "Here we show how to import the data and parse the json file to collect all the relevant information."
   ]
  },
  {
   "cell_type": "code",
   "execution_count": null,
   "metadata": {},
   "outputs": [],
   "source": [
    "#| default_exp input_json"
   ]
  },
  {
   "cell_type": "code",
   "execution_count": null,
   "metadata": {},
   "outputs": [],
   "source": [
    "#| hide\n",
    "from nbdev.showdoc import *"
   ]
  },
  {
   "cell_type": "markdown",
   "metadata": {},
   "source": [
    "The libraries used to import the data:"
   ]
  },
  {
   "cell_type": "code",
   "execution_count": null,
   "metadata": {},
   "outputs": [],
   "source": [
    "import json\n",
    "from typing import Union, List\n",
    "from datetime import datetime, timedelta\n",
    "from pathlib import Path\n",
    "from fastcore.test import *"
   ]
  },
  {
   "cell_type": "markdown",
   "metadata": {},
   "source": [
    "As an example, in this package we provide a ```json``` file containing a statement and all its related metadata"
   ]
  },
  {
   "cell_type": "code",
   "execution_count": null,
   "metadata": {},
   "outputs": [],
   "source": [
    "json_file = '../example_single_statement.json'"
   ]
  },
  {
   "cell_type": "markdown",
   "metadata": {},
   "source": [
    "#### Load an xAPI statement \n",
    "Let's start parsing the json file"
   ]
  },
  {
   "cell_type": "code",
   "execution_count": null,
   "metadata": {},
   "outputs": [],
   "source": [
    "#| export\n",
    "def load_statement(json_file: str # Filename of the json containing the statement\n",
    "                  ) -> dict: # A dictionary representing the statement structure\n",
    "    \"\"\"\n",
    "    Load a json from file and store the information in a Python dictionary object.\n",
    "    If the file does not exist, returns an empty dict and print an error message\n",
    "    \"\"\"\n",
    "    if Path(json_file).exists():\n",
    "        with open(json_file) as f:\n",
    "            return json.load(f)\n",
    "    else:\n",
    "        print(\"ERROR: The specified file does not exist\")\n",
    "        return dict()"
   ]
  },
  {
   "cell_type": "code",
   "execution_count": null,
   "metadata": {},
   "outputs": [],
   "source": [
    "my_statement = load_statement(json_file)"
   ]
  },
  {
   "cell_type": "code",
   "execution_count": null,
   "metadata": {},
   "outputs": [],
   "source": [
    "#| export\n",
    "def pretty_print_statement(statement: dict, # the statement dict imported from JSON\n",
    "                          indent: int=4 # indentation used when printing\n",
    "                          ) -> None:\n",
    "    \"\"\"\n",
    "    Displays the content of the statement in a human readable format\n",
    "    \"\"\"\n",
    "    print(json.dumps(statement, indent=indent))"
   ]
  },
  {
   "cell_type": "code",
   "execution_count": null,
   "metadata": {},
   "outputs": [
    {
     "name": "stdout",
     "output_type": "stream",
     "text": [
      "[\n",
      "  \"foo\",\n",
      "  {\n",
      "    \"bar\": [\n",
      "      \"baz\",\n",
      "      null,\n",
      "      1.0,\n",
      "      2\n",
      "    ]\n",
      "  }\n",
      "]\n"
     ]
    }
   ],
   "source": [
    "sample_json = json.loads('[\"foo\", {\"bar\": [\"baz\", null, 1.0, 2]}]')\n",
    "pretty_print_statement(sample_json, indent=2)"
   ]
  },
  {
   "cell_type": "code",
   "execution_count": null,
   "metadata": {},
   "outputs": [],
   "source": [
    "#| export\n",
    "def get_value(statement: dict, # Our xAPI statement imported from JSON\n",
    "              key: str # The key we are interested in\n",
    "             ) -> Union[str, dict, List, None]: # The value associated to the key in the statement\n",
    "    \"\"\"\n",
    "    Return the value associated to the specified key in the statement dictionary.\n",
    "    If the key does not exist, returns None\n",
    "    \"\"\"\n",
    "    if key in statement:\n",
    "        return statement[key]\n",
    "    else:\n",
    "        return None"
   ]
  },
  {
   "cell_type": "code",
   "execution_count": null,
   "metadata": {},
   "outputs": [],
   "source": [
    "test_eq(get_value(my_statement, \"not_a_key\"), None)\n",
    "test_eq(get_value(my_statement, \"stored\"), \"2022-09-30T13:34:35.959Z\")"
   ]
  },
  {
   "cell_type": "markdown",
   "metadata": {},
   "source": [
    "#### Extract statement data\n",
    "The following methids are used to extract the **actor**, **verb** and **object** information, which represents the core information provided in each statement, as well as the version statement"
   ]
  },
  {
   "cell_type": "code",
   "execution_count": null,
   "metadata": {},
   "outputs": [],
   "source": [
    "#| export\n",
    "def get_actor(statement: dict, # Our xAPI statement imported from JSON\n",
    "             ) -> dict: # dictionary containing actor information\n",
    "    \"\"\"\n",
    "    Extract the actor information from the statement\n",
    "    \"\"\"\n",
    "    st = get_value(statement, \"statement\")\n",
    "    #pretty_print_statement(st[\"actor\"], indent = 2)\n",
    "    return st[\"actor\"]"
   ]
  },
  {
   "cell_type": "code",
   "execution_count": null,
   "metadata": {},
   "outputs": [],
   "source": [
    "test_actor = {\n",
    "      \"objectType\": \"Agent\",\n",
    "      \"name\": \"1s1116\",\n",
    "      \"mbox\": \"mailto:student@app.com\"\n",
    "    }\n",
    "actor = get_actor(my_statement)\n",
    "test_eq(actor[\"objectType\"], test_actor[\"objectType\"])\n",
    "test_eq(actor[\"name\"], test_actor[\"name\"])\n",
    "test_eq(actor[\"mbox\"], test_actor[\"mbox\"])"
   ]
  },
  {
   "cell_type": "code",
   "execution_count": null,
   "metadata": {},
   "outputs": [],
   "source": [
    "#| export\n",
    "def get_actor_name(statement: dict, # Our xAPI statement imported from JSON\n",
    "             ) -> str: # name of the actor\n",
    "    \"\"\"\n",
    "    Quick access to the name field of the actor, as it is the most relevant information\n",
    "    \"\"\"\n",
    "    st = get_value(statement, \"statement\")\n",
    "    return st[\"actor\"][\"name\"]"
   ]
  },
  {
   "cell_type": "code",
   "execution_count": null,
   "metadata": {},
   "outputs": [],
   "source": [
    "test_eq(get_actor_name(my_statement), \"1s1116\")"
   ]
  },
  {
   "cell_type": "code",
   "execution_count": null,
   "metadata": {},
   "outputs": [],
   "source": [
    "#| export\n",
    "def get_verb(statement: dict, # Our xAPI statement imported from JSON\n",
    "             ) -> dict: # dictionary containing verb information\n",
    "    \"\"\"\n",
    "    Extract the verb information from the statement\n",
    "    \"\"\"\n",
    "    st = get_value(statement, \"statement\")\n",
    "    return st[\"verb\"]"
   ]
  },
  {
   "cell_type": "code",
   "execution_count": null,
   "metadata": {},
   "outputs": [],
   "source": [
    "test_verb = {\n",
    "      \"id\": \"http://id.tincanapi.com/verb/selected/\",\n",
    "      \"display\": {\n",
    "        \"en-US\": \"Selected\"\n",
    "      }\n",
    "}\n",
    "verb = get_verb(my_statement)\n",
    "test_eq(verb[\"id\"], test_verb[\"id\"])\n",
    "test_eq(verb[\"display\"][\"en-US\"], test_verb[\"display\"][\"en-US\"])"
   ]
  },
  {
   "cell_type": "code",
   "execution_count": null,
   "metadata": {},
   "outputs": [],
   "source": [
    "#| export\n",
    "def get_verb_str(statement: dict, # Our xAPI statement imported from JSON\n",
    "             ) -> str: # the displayed verb\n",
    "    \"\"\"\n",
    "    Quick access to the display field of the verb, as it is the most relevant information\n",
    "    \"\"\"\n",
    "    st = get_value(statement, \"statement\")\n",
    "    return st[\"verb\"][\"display\"][\"en-US\"]"
   ]
  },
  {
   "cell_type": "code",
   "execution_count": null,
   "metadata": {},
   "outputs": [],
   "source": [
    "test_eq(get_verb_str(my_statement), \"Selected\")"
   ]
  },
  {
   "cell_type": "code",
   "execution_count": null,
   "metadata": {},
   "outputs": [],
   "source": [
    "#| export\n",
    "def get_object(statement: dict, # Our xAPI statement imported from JSON\n",
    "             ) -> dict: # dictionary containing object information\n",
    "    \"\"\"\n",
    "    Extract the object information from the statement\n",
    "    \"\"\"\n",
    "    st = get_value(statement, \"statement\")\n",
    "    return st[\"object\"]"
   ]
  },
  {
   "cell_type": "code",
   "execution_count": null,
   "metadata": {},
   "outputs": [],
   "source": [
    "test_obj = {\n",
    "      \"objectType\": \"Activity\",\n",
    "      \"id\": \"http://example.com/activities/student-lesson\",\n",
    "      \"definition\": {\n",
    "        \"name\": {\n",
    "          \"en-US\": \"Lesson\"\n",
    "        },\n",
    "        \"description\": {\n",
    "          \"en-US\": \"Level 1 Module8 started\"\n",
    "        }\n",
    "      }\n",
    "}\n",
    "obj = get_object(my_statement)\n",
    "test_eq(obj[\"id\"], test_obj[\"id\"])\n",
    "test_eq(obj[\"objectType\"], test_obj[\"objectType\"])\n",
    "test_eq(obj[\"definition\"][\"name\"][\"en-US\"], test_obj[\"definition\"][\"name\"][\"en-US\"])\n",
    "test_eq(obj[\"definition\"][\"description\"][\"en-US\"], test_obj[\"definition\"][\"description\"][\"en-US\"])    "
   ]
  },
  {
   "cell_type": "code",
   "execution_count": null,
   "metadata": {},
   "outputs": [],
   "source": [
    "#| export\n",
    "def get_object_definition(statement: dict, # Our xAPI statement imported from JSON\n",
    "             ) -> str: # the object definition\n",
    "    \"\"\"\n",
    "    Quick access to the object definition\n",
    "    \"\"\"\n",
    "    st = get_value(statement, \"statement\")\n",
    "    return st[\"object\"][\"definition\"][\"name\"][\"en-US\"]"
   ]
  },
  {
   "cell_type": "code",
   "execution_count": null,
   "metadata": {},
   "outputs": [],
   "source": [
    "test_eq(get_object_definition(my_statement), \"Lesson\")"
   ]
  },
  {
   "cell_type": "code",
   "execution_count": null,
   "metadata": {},
   "outputs": [],
   "source": [
    "#| export\n",
    "def get_object_description(statement: dict, # Our xAPI statement imported from JSON\n",
    "             ) -> str: # the object description\n",
    "    \"\"\"\n",
    "    Quick access to the object description\n",
    "    \"\"\"\n",
    "    st = get_value(statement, \"statement\")\n",
    "    return st[\"object\"][\"definition\"][\"description\"][\"en-US\"]"
   ]
  },
  {
   "cell_type": "code",
   "execution_count": null,
   "metadata": {},
   "outputs": [],
   "source": [
    "test_eq(get_object_description(my_statement), \"Level 1 Module8 started\")"
   ]
  },
  {
   "cell_type": "markdown",
   "metadata": {},
   "source": [
    "#### Extract the metadata information\n",
    "The following methods are used to extract the metadata fields we may be interested in"
   ]
  },
  {
   "cell_type": "markdown",
   "metadata": {},
   "source": [
    "##### Get general metadata information"
   ]
  },
  {
   "cell_type": "code",
   "execution_count": null,
   "metadata": {},
   "outputs": [],
   "source": [
    "#| export\n",
    "def get_stored(statement: dict, # Our xAPI statement imported from JSON\n",
    "              ) -> datetime: # datetime object representing the time the statement was stored in the database\n",
    "    \"\"\"\n",
    "    Extract the date and time information of when the statement was stored in the database\n",
    "    \"\"\"\n",
    "    stored_str = get_value(statement, \"stored\")\n",
    "    return datetime.strptime(stored_str, \"%Y-%m-%dT%H:%M:%S.%f%z\")"
   ]
  },
  {
   "cell_type": "code",
   "execution_count": null,
   "metadata": {},
   "outputs": [],
   "source": [
    "my_date = datetime.strptime(\"2022-09-30T13:34:35.959Z\", \"%Y-%m-%dT%H:%M:%S.%f%z\")\n",
    "test_eq(get_stored(my_statement), my_date)"
   ]
  },
  {
   "cell_type": "code",
   "execution_count": null,
   "metadata": {},
   "outputs": [],
   "source": [
    "#| export\n",
    "def get_timestamp(statement: dict, # Our xAPI statement imported from JSON\n",
    "              ) -> datetime: # datetime object representing the time the statement was generated\n",
    "    \"\"\"\n",
    "    Extract the date and time information of when the statement was created\n",
    "    \"\"\"\n",
    "    timestamp_str = get_value(statement, \"timestamp\")\n",
    "    return datetime.strptime(timestamp_str, \"%Y-%m-%dT%H:%M:%S.%f%z\")"
   ]
  },
  {
   "cell_type": "code",
   "execution_count": null,
   "metadata": {},
   "outputs": [],
   "source": [
    "my_ts = datetime.strptime(\"2022-09-30T13:34:35.959Z\", \"%Y-%m-%dT%H:%M:%S.%f%z\")\n",
    "test_eq(get_timestamp(my_statement), my_date)"
   ]
  },
  {
   "cell_type": "code",
   "execution_count": null,
   "metadata": {},
   "outputs": [],
   "source": [
    "#| export\n",
    "def get_time_diff(statement: dict, # Our xAPI statement imported from JSON\n",
    "                 ) -> timedelta:   # Time difference between when the statement was sent and when it was stored\n",
    "    \"\"\"\n",
    "    Compute the time difference between when a statement was sent and when it was stored in the database\n",
    "    \"\"\"\n",
    "    ts_sent = get_timestamp(statement)\n",
    "    ts_stored = get_stored(statement)\n",
    "    return ts_stored - ts_sent"
   ]
  },
  {
   "cell_type": "code",
   "execution_count": null,
   "metadata": {},
   "outputs": [],
   "source": [
    "test_eq(get_time_diff(my_statement), timedelta()) # In our example statement the timestamps are the same"
   ]
  },
  {
   "cell_type": "markdown",
   "metadata": {},
   "source": [
    "##### Get Boolean metadata information\n",
    "These methods return the metadata providing boolean information related to the statement"
   ]
  },
  {
   "cell_type": "code",
   "execution_count": null,
   "metadata": {},
   "outputs": [],
   "source": [
    "#| export\n",
    "def is_active(statement: dict, # Our xAPI statement imported from JSON\n",
    "              ) -> bool: # Boolean representive whether active or not\n",
    "    \"\"\"\n",
    "    Extract the Active field from the statement\n",
    "    \"\"\"\n",
    "    return get_value(statement, \"active\")"
   ]
  },
  {
   "cell_type": "code",
   "execution_count": null,
   "metadata": {},
   "outputs": [],
   "source": [
    "test_eq(is_active(my_statement), True)"
   ]
  },
  {
   "cell_type": "code",
   "execution_count": null,
   "metadata": {},
   "outputs": [],
   "source": [
    "#| export\n",
    "def is_voided(statement: dict, # Our xAPI statement imported from JSON\n",
    "              ) -> bool: # Boolean representive whether statement is voided or not\n",
    "    \"\"\"\n",
    "    Extract the Active field from the statement\n",
    "    \"\"\"\n",
    "    return get_value(statement, \"voided\")"
   ]
  },
  {
   "cell_type": "code",
   "execution_count": null,
   "metadata": {},
   "outputs": [],
   "source": [
    "test_eq(is_voided(my_statement), False)"
   ]
  },
  {
   "cell_type": "code",
   "execution_count": null,
   "metadata": {},
   "outputs": [],
   "source": [
    "#| export\n",
    "def has_generated_id(statement: dict, # Our xAPI statement imported from JSON\n",
    "              ) -> bool: # Boolean representive whether statement has generated id\n",
    "    \"\"\"\n",
    "    Extract the Active field from the statement\n",
    "    \"\"\"\n",
    "    return get_value(statement, \"hasGeneratedId\")"
   ]
  },
  {
   "cell_type": "code",
   "execution_count": null,
   "metadata": {},
   "outputs": [],
   "source": [
    "test_eq(has_generated_id(my_statement), False)"
   ]
  },
  {
   "cell_type": "markdown",
   "metadata": {},
   "source": [
    "##### Get ID metadata information\n",
    "These methods return the metadata providing ID information"
   ]
  },
  {
   "cell_type": "code",
   "execution_count": null,
   "metadata": {},
   "outputs": [],
   "source": [
    "#| export\n",
    "def get_client(statement: dict, # Our xAPI statement imported from JSON\n",
    "              ) -> str: # ID of the client\n",
    "    \"\"\"\n",
    "    Extract the client field from the statement\n",
    "    \"\"\"\n",
    "    return get_value(statement, \"client\")"
   ]
  },
  {
   "cell_type": "code",
   "execution_count": null,
   "metadata": {},
   "outputs": [],
   "source": [
    "test_eq(get_client(my_statement), \"60ffcf8d448b2d059a63e3c4\")"
   ]
  },
  {
   "cell_type": "code",
   "execution_count": null,
   "metadata": {},
   "outputs": [],
   "source": [
    "#| export\n",
    "def get_LRS(statement: dict, # Our xAPI statement imported from JSON\n",
    "              ) -> str: # ID of the Learning Record Store\n",
    "    \"\"\"\n",
    "    Extract the Learning Record Store ID field from the statement\n",
    "    \"\"\"\n",
    "    return get_value(statement, \"lrs_id\")"
   ]
  },
  {
   "cell_type": "code",
   "execution_count": null,
   "metadata": {},
   "outputs": [],
   "source": [
    "test_eq(get_LRS(my_statement), \"60ffcf8d448b2d059a63e3c3\")"
   ]
  },
  {
   "cell_type": "code",
   "execution_count": null,
   "metadata": {},
   "outputs": [],
   "source": [
    "#| export\n",
    "def get_id(statement: dict, # Our xAPI statement imported from JSON\n",
    "              ) -> str: # ID of the statement\n",
    "    \"\"\"\n",
    "    Extract the ID field from the statement\n",
    "    \"\"\"\n",
    "    return get_value(statement, \"_id\")"
   ]
  },
  {
   "cell_type": "code",
   "execution_count": null,
   "metadata": {},
   "outputs": [],
   "source": [
    "test_eq(get_id(my_statement), \"6336f06c6ce79d05ebef40a7\")"
   ]
  },
  {
   "cell_type": "code",
   "execution_count": null,
   "metadata": {},
   "outputs": [],
   "source": [
    "#| export\n",
    "def get_persona_id(statement: dict, # Our xAPI statement imported from JSON\n",
    "              ) -> str: # id of the persona associated to the statement\n",
    "    \"\"\"\n",
    "    Extract the persona identifier\n",
    "    \"\"\"\n",
    "    return get_value(statement, \"personaIdentifier\")"
   ]
  },
  {
   "cell_type": "code",
   "execution_count": null,
   "metadata": {},
   "outputs": [],
   "source": [
    "test_eq(get_persona_id(my_statement), \"6103e17eaed02c30c695bffb\")"
   ]
  },
  {
   "cell_type": "code",
   "execution_count": null,
   "metadata": {},
   "outputs": [],
   "source": [
    "#| export\n",
    "def get_organisation(statement: dict, # Our xAPI statement imported from JSON\n",
    "              ) -> str: # id of the organization to the statement\n",
    "    \"\"\"\n",
    "    Extract the persona identifier\n",
    "    \"\"\"\n",
    "    return get_value(statement, \"organisation\")"
   ]
  },
  {
   "cell_type": "code",
   "execution_count": null,
   "metadata": {},
   "outputs": [],
   "source": [
    "test_eq(get_organisation(my_statement), \"60faab70448b2d059a63e375\")"
   ]
  },
  {
   "cell_type": "code",
   "execution_count": null,
   "metadata": {},
   "outputs": [],
   "source": [
    "#| export\n",
    "def get_hash(statement: dict, # Our xAPI statement imported from JSON\n",
    "              ) -> str: # hash of the statement\n",
    "    \"\"\"\n",
    "    Extract the hash\n",
    "    \"\"\"\n",
    "    return get_value(statement, \"hash\")"
   ]
  },
  {
   "cell_type": "code",
   "execution_count": null,
   "metadata": {},
   "outputs": [],
   "source": [
    "test_eq(get_hash(my_statement), \"3268dd76c35a6077796979e0613654ecf449c46e\")"
   ]
  },
  {
   "cell_type": "markdown",
   "metadata": {},
   "source": [
    "##### Get queues metadata information\n",
    "These methods return the metadata related to the queues information in the statement"
   ]
  },
  {
   "cell_type": "code",
   "execution_count": null,
   "metadata": {},
   "outputs": [],
   "source": [
    "#| export\n",
    "def get_completed_fw_queues(statement: dict, # Our xAPI statement imported from JSON\n",
    "                ) -> List: # List of completed forwarding queues in the statement\n",
    "    \"\"\"\n",
    "    Extract the List of completed forwarding queues in the statement\n",
    "    \"\"\"\n",
    "    return get_value(statement, \"completedForwardingQueue\")"
   ]
  },
  {
   "cell_type": "code",
   "execution_count": null,
   "metadata": {},
   "outputs": [],
   "source": [
    "test_eq(get_completed_fw_queues(my_statement), list())"
   ]
  },
  {
   "cell_type": "code",
   "execution_count": null,
   "metadata": {},
   "outputs": [],
   "source": [
    "#| export\n",
    "def get_failed_fw_log(statement: dict, # Our xAPI statement imported from JSON\n",
    "                ) -> List: # List of failed forwarding log messages in the statement\n",
    "    \"\"\"\n",
    "    Extract the List of failed forwarding log messages in the statement\n",
    "    \"\"\"\n",
    "    return get_value(statement, \"failedForwardingLog\")"
   ]
  },
  {
   "cell_type": "code",
   "execution_count": null,
   "metadata": {},
   "outputs": [],
   "source": [
    "test_eq(get_failed_fw_log(my_statement), list())"
   ]
  },
  {
   "cell_type": "code",
   "execution_count": null,
   "metadata": {},
   "outputs": [],
   "source": [
    "#| export\n",
    "def get_completed_queues(statement: dict, # Our xAPI statement imported from JSON\n",
    "                ) -> List: # List of completed queues in the statement\n",
    "    \"\"\"\n",
    "    Extract the List of completed queues in the statement\n",
    "    \"\"\"\n",
    "    return get_value(statement, \"completedQueues\")"
   ]
  },
  {
   "cell_type": "code",
   "execution_count": null,
   "metadata": {},
   "outputs": [],
   "source": [
    "COMPL_QS = [\"STATEMENT_FORWARDING_QUEUE\", \"STATEMENT_PERSON_QUEUE\", \"STATEMENT_QUERYBUILDERCACHE_QUEUE\"]\n",
    "test_eq(get_completed_queues(my_statement), COMPL_QS)"
   ]
  },
  {
   "cell_type": "code",
   "execution_count": null,
   "metadata": {},
   "outputs": [],
   "source": [
    "#| export\n",
    "def get_completed_queues(statement: dict, # Our xAPI statement imported from JSON\n",
    "                ) -> List: # List of completed queues in the statement\n",
    "    \"\"\"\n",
    "    Extract the List of completed queues in the statement\n",
    "    \"\"\"\n",
    "    return get_value(statement, \"completedQueues\")"
   ]
  },
  {
   "cell_type": "code",
   "execution_count": null,
   "metadata": {},
   "outputs": [],
   "source": [
    "test_eq(get_completed_fw_queues(my_statement), list())"
   ]
  },
  {
   "cell_type": "code",
   "execution_count": null,
   "metadata": {},
   "outputs": [],
   "source": [
    "#| export\n",
    "def get_dead_forwarding_queues(statement: dict, # Our xAPI statement imported from JSON\n",
    "                ) -> List: # List of dead forwarding queues in the statement\n",
    "    \"\"\"\n",
    "    Extract the List of dead forwarding queues in the statement\n",
    "    \"\"\"\n",
    "    return get_value(statement, \"deadForwardingQueue\")"
   ]
  },
  {
   "cell_type": "code",
   "execution_count": null,
   "metadata": {},
   "outputs": [],
   "source": [
    "test_eq(get_dead_forwarding_queues(my_statement), list())"
   ]
  },
  {
   "cell_type": "code",
   "execution_count": null,
   "metadata": {},
   "outputs": [],
   "source": [
    "#| export\n",
    "def get_pending_forwarding_queues(statement: dict, # Our xAPI statement imported from JSON\n",
    "                ) -> List: # List of completed queues in the statement\n",
    "    \"\"\"\n",
    "    Extract the List of pending forwarding queues in the statement\n",
    "    \"\"\"\n",
    "    return get_value(statement, \"pendingForwardingQueue\")"
   ]
  },
  {
   "cell_type": "code",
   "execution_count": null,
   "metadata": {},
   "outputs": [],
   "source": [
    "test_eq(get_pending_forwarding_queues(my_statement), list())"
   ]
  },
  {
   "cell_type": "code",
   "execution_count": null,
   "metadata": {},
   "outputs": [],
   "source": [
    "#| export\n",
    "def get_processing_queues(statement: dict, # Our xAPI statement imported from JSON\n",
    "                ) -> List: # List of processing queues in the statement\n",
    "    \"\"\"\n",
    "    Extract the List of processing queues in the statement\n",
    "    \"\"\"\n",
    "    return get_value(statement, \"processingQueues\")"
   ]
  },
  {
   "cell_type": "code",
   "execution_count": null,
   "metadata": {},
   "outputs": [],
   "source": [
    "test_eq(get_processing_queues(my_statement), list())"
   ]
  },
  {
   "cell_type": "code",
   "execution_count": null,
   "metadata": {},
   "outputs": [],
   "source": [
    "#| export\n",
    "def get_registrations(statement: dict, # Our xAPI statement imported from JSON\n",
    "                ) -> List: # List of registrations in the statement\n",
    "    \"\"\"\n",
    "    Extract the List of registrations in the statement\n",
    "    \"\"\"\n",
    "    return get_value(statement, \"registrations\")"
   ]
  },
  {
   "cell_type": "code",
   "execution_count": null,
   "metadata": {},
   "outputs": [],
   "source": [
    "test_eq(get_registrations(my_statement), list())"
   ]
  },
  {
   "cell_type": "code",
   "execution_count": null,
   "metadata": {},
   "outputs": [],
   "source": [
    "#| hide\n",
    "import nbdev; nbdev.nbdev_export()"
   ]
  }
 ],
 "metadata": {
  "kernelspec": {
   "display_name": "python3",
   "language": "python",
   "name": "python3"
  }
 },
 "nbformat": 4,
 "nbformat_minor": 4
}
