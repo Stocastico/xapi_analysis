{
 "cells": [
  {
   "cell_type": "markdown",
   "metadata": {},
   "source": [
    "# Read an input JSON statement\n",
    "\n",
    "> The methods in this notebook implement the functionalities for reading the data after exporting them from Learning Locker. \n",
    "Statements are usually provided in the form of ```csv``` files, but in case you want to check all the metadata of a statement, you can directly work with the ```json``` version of a statement.\n",
    "Here we show how to import the data, parse the json or csv file, and to filter or remove data which are not necessary. "
   ]
  },
  {
   "cell_type": "code",
   "execution_count": null,
   "metadata": {},
   "outputs": [],
   "source": [
    "#| default_exp input_json"
   ]
  },
  {
   "cell_type": "code",
   "execution_count": null,
   "metadata": {},
   "outputs": [],
   "source": [
    "#| hide\n",
    "from nbdev.showdoc import *"
   ]
  },
  {
   "cell_type": "markdown",
   "metadata": {},
   "source": [
    "The libraries used to import the data:"
   ]
  },
  {
   "cell_type": "code",
   "execution_count": null,
   "metadata": {},
   "outputs": [],
   "source": [
    "import json\n",
    "import pandas\n",
    "from typing import Union, List\n",
    "from datetime import datetime\n",
    "from pathlib import Path\n",
    "from fastcore.test import *"
   ]
  },
  {
   "cell_type": "markdown",
   "metadata": {},
   "source": [
    "As an example, in this package we provide two files, a ```csv``` containing a collection of about 1000 statements, as well as a ```json``` of a stetement and all its related metadata"
   ]
  },
  {
   "cell_type": "code",
   "execution_count": null,
   "metadata": {},
   "outputs": [],
   "source": [
    "csv_file = '../example_statements.csv'\n",
    "json_file = '../example_single_statement.json'"
   ]
  },
  {
   "cell_type": "markdown",
   "metadata": {},
   "source": [
    "Let's start parsing the json file"
   ]
  },
  {
   "cell_type": "code",
   "execution_count": null,
   "metadata": {},
   "outputs": [],
   "source": [
    "#| export\n",
    "def load_statement(json_file: str # Filename of the json containing the statement\n",
    "                  ) -> dict: # A dictionary representing the statement structure\n",
    "    \"\"\"\n",
    "    Load a json from file and store the information in a Python dictionary object.\n",
    "    If the file does not exist, returns an empty dict and print an error message\n",
    "    \"\"\"\n",
    "    if Path(json_file).exists():\n",
    "        with open(json_file) as f:\n",
    "            return json.load(f)\n",
    "    else:\n",
    "        print(\"ERROR: The specified file does not exist\")\n",
    "        return dict()"
   ]
  },
  {
   "cell_type": "code",
   "execution_count": null,
   "metadata": {},
   "outputs": [],
   "source": [
    "my_statement = load_statement(json_file)"
   ]
  },
  {
   "cell_type": "code",
   "execution_count": null,
   "metadata": {},
   "outputs": [],
   "source": [
    "#| export\n",
    "def pretty_print_statement(statement: dict, # the statement dict imported from JSON\n",
    "                          indent: int=4 # indentation used when printing\n",
    "                          ) -> None:\n",
    "    \"\"\"\n",
    "    Displays the content of the statement in a human readable format\n",
    "    \"\"\"\n",
    "    print(json.dumps(statement, indent=indent))"
   ]
  },
  {
   "cell_type": "code",
   "execution_count": null,
   "metadata": {},
   "outputs": [
    {
     "name": "stdout",
     "output_type": "stream",
     "text": [
      "[\n",
      "  \"foo\",\n",
      "  {\n",
      "    \"bar\": [\n",
      "      \"baz\",\n",
      "      null,\n",
      "      1.0,\n",
      "      2\n",
      "    ]\n",
      "  }\n",
      "]\n"
     ]
    }
   ],
   "source": [
    "sample_json = json.loads('[\"foo\", {\"bar\": [\"baz\", null, 1.0, 2]}]')\n",
    "pretty_print_statement(sample_json, indent=2)"
   ]
  },
  {
   "cell_type": "markdown",
   "metadata": {},
   "source": [
    "##### Extract the metadata information\n",
    "The following methods are used to extract the metadata fields we may be interested in"
   ]
  },
  {
   "cell_type": "code",
   "execution_count": null,
   "metadata": {},
   "outputs": [],
   "source": [
    "#| export\n",
    "def get_value(statement: dict, # Our xAPI statement imported from JSON\n",
    "              key: str # The key we are interested in\n",
    "             ) -> Union[str, dict, None]: # The value associated to the key in the statement\n",
    "    \"\"\"\n",
    "    Return the value associated to the specified key in the statement dictionary.\n",
    "    If the key does not exist, returns None\n",
    "    \"\"\"\n",
    "    if key in statement:\n",
    "        return statement[key]\n",
    "    else:\n",
    "        return None"
   ]
  },
  {
   "cell_type": "code",
   "execution_count": null,
   "metadata": {},
   "outputs": [],
   "source": [
    "test_eq(get_value(my_statement, \"not_a_key\"), None)\n",
    "test_eq(get_value(my_statement, \"stored\"), \"2022-09-30T13:34:35.959Z\")"
   ]
  },
  {
   "cell_type": "code",
   "execution_count": null,
   "metadata": {},
   "outputs": [],
   "source": [
    "#| export\n",
    "def get_stored(statement: dict, # Our xAPI statement imported from JSON\n",
    "              ) -> datetime: # datetime object representing the time the statement was stored in the database\n",
    "    \"\"\"\n",
    "    Extract the date and time information of when the statement was stored in the database\n",
    "    \"\"\"\n",
    "    stored_str = get_value(statement, \"stored\")\n",
    "    return datetime.strptime(stored_str, \"%Y-%m-%dT%H:%M:%S.%f%z\")"
   ]
  },
  {
   "cell_type": "code",
   "execution_count": null,
   "metadata": {},
   "outputs": [],
   "source": [
    "my_date = datetime.strptime(\"2022-09-30T13:34:35.959Z\", \"%Y-%m-%dT%H:%M:%S.%f%z\")\n",
    "test_eq(get_stored(my_statement), my_date)"
   ]
  },
  {
   "cell_type": "code",
   "execution_count": null,
   "metadata": {},
   "outputs": [],
   "source": [
    "#| export\n",
    "def get_active(statement: dict, # Our xAPI statement imported from JSON\n",
    "              ) -> bool: # Boolean representive whether active or not\n",
    "    \"\"\"\n",
    "    Extract the Active field from the statement\n",
    "    \"\"\"\n",
    "    return get_value(statement, \"active\")"
   ]
  },
  {
   "cell_type": "code",
   "execution_count": null,
   "metadata": {},
   "outputs": [],
   "source": [
    "test_eq(get_active(my_statement), True)"
   ]
  },
  {
   "cell_type": "code",
   "execution_count": null,
   "metadata": {},
   "outputs": [],
   "source": [
    "#| export\n",
    "def get_client(statement: dict, # Our xAPI statement imported from JSON\n",
    "              ) -> str: # ID of the client\n",
    "    \"\"\"\n",
    "    Extract the client field from the statement\n",
    "    \"\"\"\n",
    "    return get_value(statement, \"client\")"
   ]
  },
  {
   "cell_type": "code",
   "execution_count": null,
   "metadata": {},
   "outputs": [],
   "source": [
    "test_eq(get_client(my_statement), \"60ffcf8d448b2d059a63e3c4\")"
   ]
  },
  {
   "cell_type": "code",
   "execution_count": null,
   "metadata": {},
   "outputs": [],
   "source": [
    "#| export\n",
    "def get_LRS(statement: dict, # Our xAPI statement imported from JSON\n",
    "              ) -> str: # ID of the Learning Record Store\n",
    "    \"\"\"\n",
    "    Extract the Learning Record Store ID field from the statement\n",
    "    \"\"\"\n",
    "    return get_value(statement, \"lrs_id\")"
   ]
  },
  {
   "cell_type": "code",
   "execution_count": null,
   "metadata": {},
   "outputs": [],
   "source": [
    "test_eq(get_LRS(my_statement), \"60ffcf8d448b2d059a63e3c3\")"
   ]
  },
  {
   "cell_type": "code",
   "execution_count": null,
   "metadata": {},
   "outputs": [],
   "source": [
    "def get_completed_fw_queues(statement: dict, # Our xAPI statement imported from JSON\n",
    "                ) -> List: # List of completed forwarding queues in the statement\n",
    "    \"\"\"\n",
    "    Extract the List of completed forwarding queues in the statement\n",
    "    \"\"\"\n",
    "    return get_value(statement, \"completedForwardingQueue\")"
   ]
  },
  {
   "cell_type": "code",
   "execution_count": null,
   "metadata": {},
   "outputs": [],
   "source": [
    "test_eq(get_completed_fw_queues(my_statement), list())"
   ]
  },
  {
   "cell_type": "code",
   "execution_count": null,
   "metadata": {},
   "outputs": [],
   "source": [
    "def get_failed_fw_log(statement: dict, # Our xAPI statement imported from JSON\n",
    "                ) -> List: # List of failed forwarding log messages in the statement\n",
    "    \"\"\"\n",
    "    Extract the List of failed forwarding log messages in the statement\n",
    "    \"\"\"\n",
    "    return get_value(statement, \"failedForwardingLog\")"
   ]
  },
  {
   "cell_type": "code",
   "execution_count": null,
   "metadata": {},
   "outputs": [],
   "source": [
    "test_eq(get_failed_fw_log(my_statement), list())"
   ]
  },
  {
   "cell_type": "code",
   "execution_count": null,
   "metadata": {},
   "outputs": [],
   "source": [
    "def get_completed_queues(statement: dict, # Our xAPI statement imported from JSON\n",
    "                ) -> List: # List of completed queues in the statement\n",
    "    \"\"\"\n",
    "    Extract the List of completed queues in the statement\n",
    "    \"\"\"\n",
    "    return get_value(statement, \"completedQueues\")"
   ]
  },
  {
   "cell_type": "code",
   "execution_count": null,
   "metadata": {},
   "outputs": [],
   "source": [
    "COMPL_QS = [\"STATEMENT_FORWARDING_QUEUE\", \"STATEMENT_PERSON_QUEUE\", \"STATEMENT_QUERYBUILDERCACHE_QUEUE\"]\n",
    "test_eq(get_completed_queues(my_statement), COMPL_QS)"
   ]
  },
  {
   "cell_type": "code",
   "execution_count": null,
   "metadata": {},
   "outputs": [],
   "source": [
    "#| hide\n",
    "import nbdev; nbdev.nbdev_export()"
   ]
  }
 ],
 "metadata": {
  "kernelspec": {
   "display_name": "python3",
   "language": "python",
   "name": "python3"
  }
 },
 "nbformat": 4,
 "nbformat_minor": 4
}
